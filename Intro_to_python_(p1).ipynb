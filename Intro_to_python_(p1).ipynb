{
 "cells": [
  {
   "cell_type": "code",
   "execution_count": 19,
   "metadata": {},
   "outputs": [
    {
     "name": "stdout",
     "output_type": "stream",
     "text": [
      "Hello class!\n"
     ]
    }
   ],
   "source": [
    "'''This is a comment! Below is your first line of code.'''\n",
    "\n",
    "# This is also a comment, go down one more line to see some code.\n",
    "\n",
    "print('Hello class!')"
   ]
  },
  {
   "cell_type": "code",
   "execution_count": 23,
   "metadata": {},
   "outputs": [
    {
     "name": "stdout",
     "output_type": "stream",
     "text": [
      "5\n",
      "4\n"
     ]
    }
   ],
   "source": [
    "'''Set an variable'''\n",
    "\n",
    "#short_intro = 'Hello class!' # I have made the variable or object called short intro. \n",
    "#print(short_intro)\n",
    "my_fav_number = 5\n",
    "print(my_fav_number)\n",
    "# # hey thats not my favorite number!\n",
    "my_fav_number = 4\n",
    "print(my_fav_number)"
   ]
  },
  {
   "cell_type": "code",
   "execution_count": 24,
   "metadata": {},
   "outputs": [
    {
     "name": "stdout",
     "output_type": "stream",
     "text": [
      "<class 'str'>\n"
     ]
    }
   ],
   "source": [
    "'''Data Types'''\n",
    "\n",
    "intro_data_type = type(short_intro)\n",
    "print(intro_data_type)"
   ]
  },
  {
   "cell_type": "code",
   "execution_count": 29,
   "metadata": {},
   "outputs": [
    {
     "name": "stdout",
     "output_type": "stream",
     "text": [
      "<class 'str'>\n",
      "<class 'int'>\n",
      "<class 'float'>\n",
      "<class 'bool'>\n",
      "<class 'list'>\n"
     ]
    }
   ],
   "source": [
    "'''Intro to data type'''\n",
    "\n",
    "print(type('hi'))\n",
    "print(type(1))\n",
    "print(type(1.0001))\n",
    "print(type(True))\n",
    "print(type([1,2,3]))"
   ]
  },
  {
   "cell_type": "code",
   "execution_count": 5,
   "metadata": {},
   "outputs": [
    {
     "name": "stdout",
     "output_type": "stream",
     "text": [
      "<class 'int'>\n",
      "<class 'str'>\n"
     ]
    }
   ],
   "source": [
    "# Changing an objects data type\n",
    "\n",
    "print(type(my_fav_number))\n",
    "my_fav_number = str(my_fav_number)\n",
    "print(type(my_fav_number))"
   ]
  },
  {
   "cell_type": "code",
   "execution_count": 30,
   "metadata": {},
   "outputs": [
    {
     "name": "stdout",
     "output_type": "stream",
     "text": [
      "Thanks to the 8 of you for coming\n"
     ]
    }
   ],
   "source": [
    "# Putting them together\n",
    "\n",
    "workshop_attendence = 8\n",
    "thanks = \"Thanks to the {} of you for coming\".format(workshop_attendence)\n",
    "print(thanks)\n"
   ]
  },
  {
   "cell_type": "code",
   "execution_count": 32,
   "metadata": {},
   "outputs": [
    {
     "name": "stdout",
     "output_type": "stream",
     "text": [
      "Thanks again to the 14 of you for coming!\n"
     ]
    }
   ],
   "source": [
    "# Manipulating objects\n",
    "late_students = 3\n",
    "workshop_attendence = workshop_attendence + late_students\n",
    "thanks_again = f\"Thanks again to the {workshop_attendence} of you for coming!\"\n",
    "print(thanks_again)"
   ]
  },
  {
   "cell_type": "code",
   "execution_count": 33,
   "metadata": {},
   "outputs": [
    {
     "name": "stdout",
     "output_type": "stream",
     "text": [
      "Thanks again to the 14 of you for coming! Gradquant also does consultations. So if you have more questions after this workshop, feel free to schedual a meeting!\n"
     ]
    }
   ],
   "source": [
    "# concatenating strings\n",
    "consultation_reminder = ' Gradquant also does consultations. So if you have more questions after this workshop, feel free to schedual a meeting!'\n",
    "thanks_again = thanks_again + consultation_reminder\n",
    "print(thanks_again)"
   ]
  },
  {
   "cell_type": "code",
   "execution_count": 34,
   "metadata": {},
   "outputs": [
    {
     "name": "stdout",
     "output_type": "stream",
     "text": [
      "0.053173769334223464\n"
     ]
    }
   ],
   "source": [
    "# Now you try!\n",
    "\n",
    "import random\n",
    "your_random_number = random.random()\n",
    "\n",
    "# Write a line of code which prints your random number with a little message as well!\n",
    "your_string=\"\"\n",
    "print()"
   ]
  },
  {
   "cell_type": "code",
   "execution_count": 35,
   "metadata": {},
   "outputs": [
    {
     "name": "stdout",
     "output_type": "stream",
     "text": [
      "<class 'tuple'>\n",
      "(5, 10)\n",
      "x: 5, y: 10\n"
     ]
    }
   ],
   "source": [
    "'''lists, tuples, dictionaries'''\n",
    "# Tuples\n",
    "x = 5\n",
    "y = 10\n",
    "coord = (x,y)\n",
    "print(type(coord))\n",
    "print(coord)\n",
    "print(\"x: {}, y: {}\".format(coord[0], coord[1]))"
   ]
  },
  {
   "cell_type": "code",
   "execution_count": 37,
   "metadata": {},
   "outputs": [
    {
     "name": "stdout",
     "output_type": "stream",
     "text": [
      "thing: 1, is type <class 'int'>\n",
      "thing: cheese, is type <class 'str'>\n",
      "thing: False, is type <class 'bool'>\n",
      "thing: [], is type <class 'list'>\n",
      "thing: (3, 6), is type <class 'tuple'>\n"
     ]
    }
   ],
   "source": [
    "'''lists, tuples, dictionaries'''\n",
    "# Lists\n",
    "\n",
    "my_list = [1,\"cheese\",False,[],(3,6)]\n",
    "#print(type(my_list)) # This prints the data type of the object my_list\n",
    "#print(len(my_list)) # This prints the number of elements in the list\n",
    "for i in my_list: # This is a for loop! It iterates through each element of the list. Each step of the iteration is called i\n",
    "    print(f\"thing: {i}, is type {type(i)}\")"
   ]
  },
  {
   "cell_type": "code",
   "execution_count": 8,
   "metadata": {},
   "outputs": [
    {
     "name": "stdout",
     "output_type": "stream",
     "text": [
      "True\n",
      "False\n",
      "True\n",
      "True\n",
      "False\n"
     ]
    }
   ],
   "source": [
    "'''Logic Statements'''\n",
    "\n",
    "print(\"cat\"==\"cat\")\n",
    "print(\"cat\"==\"dog\")\n",
    "print(\"cat\" is \"cat\")\n",
    "animals=['cat','dog']\n",
    "print('cat' in animals)\n",
    "print('python' in animals)"
   ]
  },
  {
   "cell_type": "code",
   "execution_count": 38,
   "metadata": {},
   "outputs": [
    {
     "name": "stdout",
     "output_type": "stream",
     "text": [
      "who is that?\n"
     ]
    }
   ],
   "source": [
    "'''Logic Statements: if else'''\n",
    "\n",
    "\n",
    "#name = 'Michael'\n",
    "name = 'David'\n",
    "\n",
    "if name=='Michael':\n",
    "    print(\"yay that's my name!\")\n",
    "else:\n",
    "    print(\"who is that?\")"
   ]
  },
  {
   "cell_type": "code",
   "execution_count": 39,
   "metadata": {},
   "outputs": [
    {
     "name": "stdout",
     "output_type": "stream",
     "text": [
      "who is that?\n"
     ]
    }
   ],
   "source": [
    "# If Else\n",
    "\n",
    "#name = 'Michael'\n",
    "#name = 'David'\n",
    "name = 'John'\n",
    "\n",
    "if name=='Michael':\n",
    "    print(\"yay that's my name!\")\n",
    "elif name=='David':\n",
    "    print(\"That's my brothers name.\")\n",
    "else:\n",
    "    print(\"who is that?\")"
   ]
  },
  {
   "cell_type": "code",
   "execution_count": 40,
   "metadata": {},
   "outputs": [
    {
     "name": "stdout",
     "output_type": "stream",
     "text": [
      "0 is a positive number or is 0\n",
      "10 is a positive number or is 0\n",
      "5 is a positive number or is 0\n",
      "6 is a positive number or is 0\n",
      "22 is a positive number or is 0\n",
      "50 is a positive number or is 0\n",
      "-10 is a negative number\n"
     ]
    }
   ],
   "source": [
    "'''For loops with logic'''\n",
    "my_numbers = [0,10,5,6,22,50,-10]\n",
    "for number in my_numbers:\n",
    "    if 0<=number:\n",
    "        print(f\"{number} is a positive number or is 0\")\n",
    "    else:\n",
    "        print(f\"{number} is a negative number\")"
   ]
  },
  {
   "cell_type": "code",
   "execution_count": 42,
   "metadata": {},
   "outputs": [
    {
     "name": "stdout",
     "output_type": "stream",
     "text": [
      "i: 1, i^2: 1\n",
      "i: 2, i^2: 4\n",
      "i: 3, i^2: 9\n",
      "i: 4, i^2: 16\n",
      "i: 5, i^2: 25\n",
      "i: 6, i^2: 36\n",
      "i: 7, i^2: 49\n",
      "i: 8, i^2: 64\n",
      "i: 9, i^2: 81\n",
      "i: 10, i^2: 100\n",
      "i: 11, i^2: 121\n",
      "i: 12, i^2: 144\n",
      "i: 13, i^2: 169\n",
      "i: 14, i^2: 196\n"
     ]
    }
   ],
   "source": [
    "# for loops\n",
    "for i in range(0,15):\n",
    "    print(f\"i: {i}, i^2: {i**2}\")"
   ]
  },
  {
   "cell_type": "code",
   "execution_count": 43,
   "metadata": {},
   "outputs": [
    {
     "name": "stdout",
     "output_type": "stream",
     "text": [
      "index: 0, item: 1\n",
      "index: 1, item: cheese\n",
      "index: 2, item: False\n",
      "index: 3, item: []\n",
      "index: 4, item: (3, 6)\n"
     ]
    }
   ],
   "source": [
    "# for loops cont\n",
    "for index, item in enumerate(my_list):\n",
    "    print(f\"index: {index}, item: {item}\")"
   ]
  },
  {
   "cell_type": "code",
   "execution_count": 45,
   "metadata": {},
   "outputs": [
    {
     "name": "stdout",
     "output_type": "stream",
     "text": [
      "Help on function exponentiation in module __main__:\n",
      "\n",
      "exponentiation(number, exponent)\n",
      "    In the function number^exponent, the number argument is number, the exponent is exponent.\n",
      "\n"
     ]
    }
   ],
   "source": [
    "# Making our first function\n",
    "\n",
    "def exponentiation(number,exponent):\n",
    "    ''' In the function number^exponent, the number argument is number, the exponent is exponent.'''\n",
    "    return number**exponent\n",
    "\n",
    "#help(exponentiation)\n",
    "exponentiation(2,3)"
   ]
  },
  {
   "cell_type": "code",
   "execution_count": 47,
   "metadata": {},
   "outputs": [
    {
     "name": "stdout",
     "output_type": "stream",
     "text": [
      "[]\n",
      "[1, 4, 9, 16]\n"
     ]
    }
   ],
   "source": [
    "# Building lists\n",
    "# Building lists\n",
    "data = [1,2,3,4]\n",
    "squared_list = []\n",
    "print(squared_list)\n",
    "for number in data:\n",
    "    square = exponentiation(number, 2)\n",
    "    squared_list.append(square)\n",
    "    \n",
    "    \n",
    "print(squared_list)\n"
   ]
  },
  {
   "cell_type": "code",
   "execution_count": 23,
   "metadata": {},
   "outputs": [
    {
     "name": "stdout",
     "output_type": "stream",
     "text": [
      "______keys______\n",
      "dict_keys(['dogs', 'cats'])\n",
      "_____values_____\n",
      "dict_values(['dauchsand', 'alley cat'])\n",
      "calling items manually\n",
      "dauchsand\n",
      "alley cat\n"
     ]
    }
   ],
   "source": [
    "# Dictionaries\n",
    "my_empty_dictionary = {}\n",
    "my_full_dictionary = {\"dog\": \"dauchsand\",\n",
    "                     \"cat\": \"alley cat\"}\n",
    "\n",
    "print(\"______keys______\")\n",
    "print(my_full_dictionary.keys())\n",
    "print(\"_____values_____\")\n",
    "print(my_full_dictionary.values())\n",
    "print('calling items manually')\n",
    "print(my_full_dictionary['dog'])\n",
    "print(my_full_dictionary['cat'])"
   ]
  },
  {
   "cell_type": "code",
   "execution_count": 20,
   "metadata": {},
   "outputs": [
    {
     "name": "stdout",
     "output_type": "stream",
     "text": [
      "['word', 'cat']\n"
     ]
    }
   ],
   "source": [
    "# Dictionaries\n",
    "a = {}\n",
    "type(a)\n",
    "clean_dictionary = {\"numbers\": [],\n",
    "                     \"words\": [],\n",
    "                     \"bools\": [],\n",
    "                     \"other\": []\n",
    "    }\n",
    "\n",
    "messy_list = [1, 2, 3, False, \"word\", 3.25, \"cat\", 3, True, []]\n",
    "\n",
    "for i in messy_list:\n",
    "    if type(i)==str:\n",
    "        clean_dictionary['words'].append(i)\n",
    "    elif type(i) in [int,float]:\n",
    "        clean_dictionary['numbers'].append(i)\n",
    "    elif type(i)==bool:\n",
    "        clean_dictionary['bools'].append(i)\n",
    "    else:\n",
    "        clean_dictionary['other'].append(i)\n",
    "        \n",
    "#print(clean_dictionary)\n",
    "print(clean_dictionary['words'])"
   ]
  },
  {
   "cell_type": "code",
   "execution_count": null,
   "metadata": {},
   "outputs": [],
   "source": [
    "print(\"______keys______\")\n",
    "print(clean_dictionary.keys())\n",
    "print(\"_____values_____\")\n",
    "print(clean_dictionary.values())"
   ]
  },
  {
   "cell_type": "code",
   "execution_count": null,
   "metadata": {},
   "outputs": [],
   "source": [
    "# Looping through dictionary\n",
    "def print_dictionary_values(dictionary, print_individual_values=False):\n",
    "    for key, value in dictionary.items():\n",
    "        print(f\"key {key}, Number of items {len(value)}\")\n",
    "        if print_individual_values:\n",
    "            for i in value:\n",
    "                print(i)"
   ]
  },
  {
   "cell_type": "code",
   "execution_count": 18,
   "metadata": {},
   "outputs": [
    {
     "name": "stdout",
     "output_type": "stream",
     "text": [
      "1\n",
      "2\n",
      "3\n",
      "4\n",
      "5\n"
     ]
    }
   ],
   "source": [
    "# while loops\n",
    "i = 1\n",
    "while i < 6:\n",
    "  print(i)\n",
    "  i += 1"
   ]
  },
  {
   "cell_type": "code",
   "execution_count": null,
   "metadata": {},
   "outputs": [],
   "source": [
    "# now you try!\n",
    "# Make a function that adds two numbers together and returns it!"
   ]
  }
 ],
 "metadata": {
  "kernelspec": {
   "display_name": "Python 3",
   "language": "python",
   "name": "python3"
  },
  "language_info": {
   "codemirror_mode": {
    "name": "ipython",
    "version": 3
   },
   "file_extension": ".py",
   "mimetype": "text/x-python",
   "name": "python",
   "nbconvert_exporter": "python",
   "pygments_lexer": "ipython3",
   "version": "3.7.6"
  }
 },
 "nbformat": 4,
 "nbformat_minor": 4
}
