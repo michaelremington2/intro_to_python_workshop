{
 "cells": [
  {
   "cell_type": "code",
   "execution_count": 1,
   "metadata": {},
   "outputs": [
    {
     "name": "stdout",
     "output_type": "stream",
     "text": [
      "______keys______\n",
      "dict_keys(['dog', 'cat'])\n",
      "_____values_____\n",
      "dict_values(['dauchsand', 'alley cat'])\n",
      "calling items manually\n",
      "dauchsand\n",
      "alley cat\n"
     ]
    }
   ],
   "source": [
    "# Dictionaries\n",
    "my_empty_dictionary = {}\n",
    "my_full_dictionary = {\"dog\": \"dauchsand\",\n",
    "                     \"cat\": \"alley cat\"}\n",
    "\n",
    "print(\"______keys______\")\n",
    "print(my_full_dictionary.keys())\n",
    "print(\"_____values_____\")\n",
    "print(my_full_dictionary.values())\n",
    "print('calling items manually')\n",
    "print(my_full_dictionary['dog'])\n",
    "print(my_full_dictionary['cat'])"
   ]
  },
  {
   "cell_type": "code",
   "execution_count": 2,
   "metadata": {},
   "outputs": [
    {
     "name": "stdout",
     "output_type": "stream",
     "text": [
      "wolf\n"
     ]
    }
   ],
   "source": [
    "# 1 value can only be tied with one key\n",
    "my_full_dictionary['dog']='wolf'\n",
    "print(my_full_dictionary['dog'])"
   ]
  },
  {
   "cell_type": "code",
   "execution_count": 3,
   "metadata": {},
   "outputs": [
    {
     "name": "stdout",
     "output_type": "stream",
     "text": [
      "[1, 2, 3, 3.25, 3]\n"
     ]
    }
   ],
   "source": [
    "# Dictionaries\n",
    "a = {}\n",
    "type(a)\n",
    "clean_dictionary = {\"numbers\": [],\n",
    "                     \"words\": [],\n",
    "                     \"bools\": [],\n",
    "                     \"other\": []\n",
    "    }\n",
    "\n",
    "messy_list = [1, 2, 3, False, \"word\", 3.25, \"cat\", 3, True, []]\n",
    "\n",
    "for i in messy_list:\n",
    "    if type(i)==str:\n",
    "        clean_dictionary['words'].append(i)\n",
    "    elif type(i) in [int,float]:\n",
    "        clean_dictionary['numbers'].append(i)\n",
    "    elif type(i)==bool:\n",
    "        clean_dictionary['bools'].append(i)\n",
    "    else:\n",
    "        clean_dictionary['other'].append(i)\n",
    "        \n",
    "#print(clean_dictionary)\n",
    "print(clean_dictionary['numbers'])"
   ]
  },
  {
   "cell_type": "code",
   "execution_count": 4,
   "metadata": {},
   "outputs": [
    {
     "name": "stdout",
     "output_type": "stream",
     "text": [
      "______keys______\n",
      "dict_keys(['numbers', 'words', 'bools', 'other'])\n",
      "_____values_____\n",
      "dict_values([[1, 2, 3, 3.25, 3], ['word', 'cat'], [False, True], [[]]])\n"
     ]
    }
   ],
   "source": [
    "print(\"______keys______\")\n",
    "print(clean_dictionary.keys())\n",
    "print(\"_____values_____\")\n",
    "print(clean_dictionary.values())"
   ]
  },
  {
   "cell_type": "code",
   "execution_count": 5,
   "metadata": {},
   "outputs": [],
   "source": [
    "# Looping through dictionary\n",
    "def print_dictionary_values(dictionary, print_individual_values=False):\n",
    "    for key, value in dictionary.items():\n",
    "        print(f\"key {key}, Number of items {len(value)}\")\n",
    "        if print_individual_values:\n",
    "            for i in value:\n",
    "                print(i)"
   ]
  },
  {
   "cell_type": "code",
   "execution_count": 14,
   "metadata": {},
   "outputs": [
    {
     "name": "stdout",
     "output_type": "stream",
     "text": [
      "Print individual values is set to False\n",
      "--------------------------------------\n",
      "key numbers, Number of items 5\n",
      "key words, Number of items 2\n",
      "key bools, Number of items 2\n",
      "key other, Number of items 1\n",
      "\n",
      "\n",
      "Print individual values is set to True\n",
      "--------------------------------------\n",
      "key numbers, Number of items 5\n",
      "1\n",
      "2\n",
      "3\n",
      "3.25\n",
      "3\n",
      "key words, Number of items 2\n",
      "word\n",
      "cat\n",
      "key bools, Number of items 2\n",
      "False\n",
      "True\n",
      "key other, Number of items 1\n",
      "[]\n"
     ]
    }
   ],
   "source": [
    "# print individual values is set to false\n",
    "print('Print individual values is set to False')\n",
    "print('--------------------------------------')\n",
    "print_dictionary_values(clean_dictionary)\n",
    "print()\n",
    "print()\n",
    "print('Print individual values is set to True')\n",
    "print('--------------------------------------')\n",
    "print_dictionary_values(clean_dictionary, print_individual_values=True)"
   ]
  },
  {
   "cell_type": "code",
   "execution_count": 1,
   "metadata": {},
   "outputs": [
    {
     "name": "stdout",
     "output_type": "stream",
     "text": [
      "1\n",
      "2\n",
      "3\n",
      "4\n",
      "5\n"
     ]
    }
   ],
   "source": [
    "# while loops\n",
    "i = 1\n",
    "while i < 6:\n",
    "  print(i)\n",
    "  i += 1"
   ]
  },
  {
   "cell_type": "code",
   "execution_count": 10,
   "metadata": {},
   "outputs": [],
   "source": [
    "# Delete a file\n",
    "import os\n",
    "os.remove(\"gene.txt\") "
   ]
  },
  {
   "cell_type": "code",
   "execution_count": 11,
   "metadata": {},
   "outputs": [
    {
     "name": "stdout",
     "output_type": "stream",
     "text": [
      "A\n",
      "T\n",
      "A\n",
      "A\n",
      "G\n",
      "T\n",
      "A\n",
      "A\n",
      "T\n",
      "A\n",
      "T\n",
      "C\n",
      "T\n",
      "T\n",
      "G\n",
      "C\n",
      "A\n",
      "G\n",
      "G\n",
      "C\n"
     ]
    }
   ],
   "source": [
    "# writing a file with w \n",
    "import random as r\n",
    "bases = ['A','T','C','G']\n",
    "\n",
    "with open(\"gene.txt\", \"w\") as f:\n",
    "    f = open(\"gene.txt\", \"w\")\n",
    "    start_codon = 'ATG'\n",
    "    f.write(start_codon)\n",
    "    for i in range(0,20):\n",
    "        base = r.choice(bases)\n",
    "        print(base)\n",
    "        f.write(base)\n",
    "    stop_codon = 'TAG'\n",
    "    f.write(stop_codon)\n"
   ]
  },
  {
   "cell_type": "code",
   "execution_count": 12,
   "metadata": {},
   "outputs": [
    {
     "name": "stdout",
     "output_type": "stream",
     "text": [
      "['ATGATAAGTAATATCTTGCAGGCTAG']\n"
     ]
    }
   ],
   "source": [
    "# reading a file \n",
    "with open(\"gene.txt\", \"r\") as f:\n",
    "    print(f.readlines())"
   ]
  },
  {
   "cell_type": "code",
   "execution_count": 2,
   "metadata": {},
   "outputs": [
    {
     "data": {
      "text/html": [
       "<div>\n",
       "<style scoped>\n",
       "    .dataframe tbody tr th:only-of-type {\n",
       "        vertical-align: middle;\n",
       "    }\n",
       "\n",
       "    .dataframe tbody tr th {\n",
       "        vertical-align: top;\n",
       "    }\n",
       "\n",
       "    .dataframe thead th {\n",
       "        text-align: right;\n",
       "    }\n",
       "</style>\n",
       "<table border=\"1\" class=\"dataframe\">\n",
       "  <thead>\n",
       "    <tr style=\"text-align: right;\">\n",
       "      <th></th>\n",
       "      <th>Id</th>\n",
       "      <th>SepalLengthCm</th>\n",
       "      <th>SepalWidthCm</th>\n",
       "      <th>PetalLengthCm</th>\n",
       "      <th>PetalWidthCm</th>\n",
       "      <th>Species</th>\n",
       "    </tr>\n",
       "  </thead>\n",
       "  <tbody>\n",
       "    <tr>\n",
       "      <th>0</th>\n",
       "      <td>1</td>\n",
       "      <td>5.1</td>\n",
       "      <td>3.5</td>\n",
       "      <td>1.4</td>\n",
       "      <td>0.2</td>\n",
       "      <td>Iris-setosa</td>\n",
       "    </tr>\n",
       "    <tr>\n",
       "      <th>1</th>\n",
       "      <td>2</td>\n",
       "      <td>4.9</td>\n",
       "      <td>3.0</td>\n",
       "      <td>1.4</td>\n",
       "      <td>0.2</td>\n",
       "      <td>Iris-setosa</td>\n",
       "    </tr>\n",
       "    <tr>\n",
       "      <th>2</th>\n",
       "      <td>3</td>\n",
       "      <td>4.7</td>\n",
       "      <td>3.2</td>\n",
       "      <td>1.3</td>\n",
       "      <td>0.2</td>\n",
       "      <td>Iris-setosa</td>\n",
       "    </tr>\n",
       "    <tr>\n",
       "      <th>3</th>\n",
       "      <td>4</td>\n",
       "      <td>4.6</td>\n",
       "      <td>3.1</td>\n",
       "      <td>1.5</td>\n",
       "      <td>0.2</td>\n",
       "      <td>Iris-setosa</td>\n",
       "    </tr>\n",
       "    <tr>\n",
       "      <th>4</th>\n",
       "      <td>5</td>\n",
       "      <td>5.0</td>\n",
       "      <td>3.6</td>\n",
       "      <td>1.4</td>\n",
       "      <td>0.2</td>\n",
       "      <td>Iris-setosa</td>\n",
       "    </tr>\n",
       "  </tbody>\n",
       "</table>\n",
       "</div>"
      ],
      "text/plain": [
       "   Id  SepalLengthCm  SepalWidthCm  PetalLengthCm  PetalWidthCm      Species\n",
       "0   1            5.1           3.5            1.4           0.2  Iris-setosa\n",
       "1   2            4.9           3.0            1.4           0.2  Iris-setosa\n",
       "2   3            4.7           3.2            1.3           0.2  Iris-setosa\n",
       "3   4            4.6           3.1            1.5           0.2  Iris-setosa\n",
       "4   5            5.0           3.6            1.4           0.2  Iris-setosa"
      ]
     },
     "execution_count": 2,
     "metadata": {},
     "output_type": "execute_result"
    }
   ],
   "source": [
    "# pandas and csvs\n",
    "# to install pandas, open a command line and type: pip install pandas\n",
    "import pandas as pd\n",
    "df = pd.read_csv('iris.csv')\n",
    "df.head()"
   ]
  },
  {
   "cell_type": "code",
   "execution_count": 7,
   "metadata": {},
   "outputs": [
    {
     "data": {
      "text/html": [
       "<div>\n",
       "<style scoped>\n",
       "    .dataframe tbody tr th:only-of-type {\n",
       "        vertical-align: middle;\n",
       "    }\n",
       "\n",
       "    .dataframe tbody tr th {\n",
       "        vertical-align: top;\n",
       "    }\n",
       "\n",
       "    .dataframe thead th {\n",
       "        text-align: right;\n",
       "    }\n",
       "</style>\n",
       "<table border=\"1\" class=\"dataframe\">\n",
       "  <thead>\n",
       "    <tr style=\"text-align: right;\">\n",
       "      <th></th>\n",
       "      <th>Id</th>\n",
       "      <th>SepalLengthCm</th>\n",
       "      <th>SepalWidthCm</th>\n",
       "      <th>PetalLengthCm</th>\n",
       "      <th>PetalWidthCm</th>\n",
       "      <th>Species</th>\n",
       "      <th>Species_Label</th>\n",
       "    </tr>\n",
       "  </thead>\n",
       "  <tbody>\n",
       "    <tr>\n",
       "      <th>0</th>\n",
       "      <td>1</td>\n",
       "      <td>5.1</td>\n",
       "      <td>3.5</td>\n",
       "      <td>1.4</td>\n",
       "      <td>0.2</td>\n",
       "      <td>Iris-setosa</td>\n",
       "      <td>Setosa</td>\n",
       "    </tr>\n",
       "    <tr>\n",
       "      <th>1</th>\n",
       "      <td>2</td>\n",
       "      <td>4.9</td>\n",
       "      <td>3.0</td>\n",
       "      <td>1.4</td>\n",
       "      <td>0.2</td>\n",
       "      <td>Iris-setosa</td>\n",
       "      <td>Setosa</td>\n",
       "    </tr>\n",
       "    <tr>\n",
       "      <th>2</th>\n",
       "      <td>3</td>\n",
       "      <td>4.7</td>\n",
       "      <td>3.2</td>\n",
       "      <td>1.3</td>\n",
       "      <td>0.2</td>\n",
       "      <td>Iris-setosa</td>\n",
       "      <td>Setosa</td>\n",
       "    </tr>\n",
       "    <tr>\n",
       "      <th>3</th>\n",
       "      <td>4</td>\n",
       "      <td>4.6</td>\n",
       "      <td>3.1</td>\n",
       "      <td>1.5</td>\n",
       "      <td>0.2</td>\n",
       "      <td>Iris-setosa</td>\n",
       "      <td>Setosa</td>\n",
       "    </tr>\n",
       "    <tr>\n",
       "      <th>4</th>\n",
       "      <td>5</td>\n",
       "      <td>5.0</td>\n",
       "      <td>3.6</td>\n",
       "      <td>1.4</td>\n",
       "      <td>0.2</td>\n",
       "      <td>Iris-setosa</td>\n",
       "      <td>Setosa</td>\n",
       "    </tr>\n",
       "  </tbody>\n",
       "</table>\n",
       "</div>"
      ],
      "text/plain": [
       "   Id  SepalLengthCm  SepalWidthCm  PetalLengthCm  PetalWidthCm      Species  \\\n",
       "0   1            5.1           3.5            1.4           0.2  Iris-setosa   \n",
       "1   2            4.9           3.0            1.4           0.2  Iris-setosa   \n",
       "2   3            4.7           3.2            1.3           0.2  Iris-setosa   \n",
       "3   4            4.6           3.1            1.5           0.2  Iris-setosa   \n",
       "4   5            5.0           3.6            1.4           0.2  Iris-setosa   \n",
       "\n",
       "  Species_Label  \n",
       "0        Setosa  \n",
       "1        Setosa  \n",
       "2        Setosa  \n",
       "3        Setosa  \n",
       "4        Setosa  "
      ]
     },
     "execution_count": 7,
     "metadata": {},
     "output_type": "execute_result"
    }
   ],
   "source": [
    "species_label = []\n",
    "for org in list(df['Species']):\n",
    "    split_text = org.split('-')\n",
    "    #print(split_text)\n",
    "    #break\n",
    "    label = split_text[1].capitalize()\n",
    "    species_label.append(label)\n",
    "    \n",
    "df['Species_Label'] = species_label \n",
    "df.head()"
   ]
  },
  {
   "cell_type": "code",
   "execution_count": 10,
   "metadata": {},
   "outputs": [
    {
     "data": {
      "text/plain": [
       "[Text(0.5, 1.0, 'Sepal Size')]"
      ]
     },
     "execution_count": 10,
     "metadata": {},
     "output_type": "execute_result"
    },
    {
     "data": {
      "image/png": "[encoded data removed]",
      "text/plain": [
       "<Figure size 432x288 with 1 Axes>"
      ]
     },
     "metadata": {
      "needs_background": "light"
     },
     "output_type": "display_data"
    }
   ],
   "source": [
    "import seaborn as sns\n",
    "sns.scatterplot(data=df, x='SepalWidthCm',\n",
    "                         y='SepalLengthCm',\n",
    "                         hue='Species_Label').set(title = 'Sepal Size')"
   ]
  },
  {
   "cell_type": "code",
   "execution_count": null,
   "metadata": {},
   "outputs": [],
   "source": []
  }
 ],
 "metadata": {
  "kernelspec": {
   "display_name": "Python 3",
   "language": "python",
   "name": "python3"
  },
  "language_info": {
   "codemirror_mode": {
    "name": "ipython",
    "version": 3
   },
   "file_extension": ".py",
   "mimetype": "text/x-python",
   "name": "python",
   "nbconvert_exporter": "python",
   "pygments_lexer": "ipython3",
   "version": "3.7.6"
  }
 },
 "nbformat": 4,
 "nbformat_minor": 4
}
